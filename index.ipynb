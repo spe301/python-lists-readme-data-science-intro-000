{
 "cells": [
  {
   "cell_type": "markdown",
   "metadata": {
    "collapsed": true
   },
   "source": [
    "# Introduction to lists"
   ]
  },
  {
   "cell_type": "markdown",
   "metadata": {},
   "source": [
    "So far, we have worked with individual pieces of data like the string `'hello'`. Then with variables we saw how to give this data a name.  Now in this lesson, we'll see how we can group data together with lists.  "
   ]
  },
  {
   "cell_type": "markdown",
   "metadata": {},
   "source": [
    "### Creating a list "
   ]
  },
  {
   "cell_type": "markdown",
   "metadata": {},
   "source": [
    "A list is our first form of a collection.  A collection is just a way of grouping data together, and lists certainly accomplish this.  For example, let's consider the top cities for travel according to the magazine Travel and Leisure. Here is how we are used to seeing a list of travel locations in a document or on a website."
   ]
  },
  {
   "cell_type": "markdown",
   "metadata": {},
   "source": [
    "#### Travel Locations\n",
    "1. Solta\n",
    "2. Greenville\n",
    "3. Buenos Aires\n",
    "4. Los Cabos\n",
    "5. Walla Walla Valley\n",
    "6. Marakesh\n",
    "7. Albuquerque\n",
    "8. Archipelago Sea\n",
    "9. Iguazu Falls\n",
    "10. Salina Island\n",
    "11. Toronto\n",
    "12. Pyeongchang"
   ]
  },
  {
   "cell_type": "markdown",
   "metadata": {},
   "source": [
    "Here is what that list looks like as a Python `list`:"
   ]
  },
  {
   "cell_type": "code",
   "execution_count": 1,
   "metadata": {},
   "outputs": [
    {
     "data": {
      "text/plain": [
       "['Solta',\n",
       " 'Greenville',\n",
       " 'Buenos Aires',\n",
       " 'Los Cabos',\n",
       " 'Walla Walla Valley',\n",
       " 'Marakesh',\n",
       " 'Albuquerque',\n",
       " 'Archipelago Sea',\n",
       " 'Iguazu Falls',\n",
       " 'Salina Island',\n",
       " 'Toronto',\n",
       " 'Pyeongchang']"
      ]
     },
     "execution_count": 1,
     "metadata": {},
     "output_type": "execute_result"
    }
   ],
   "source": [
    "['Solta', 'Greenville', 'Buenos Aires', 'Los Cabos', 'Walla Walla Valley', 'Marakesh', 'Albuquerque', 'Archipelago Sea', 'Iguazu Falls', 'Salina Island', 'Toronto', 'Pyeongchang']"
   ]
  },
  {
   "cell_type": "markdown",
   "metadata": {},
   "source": [
    "We indicate that we are initializing a `list` with an opening bracket, `[`, and we end the list with a closing bracket `]`. We separate each list item, also called an element, with a comma."
   ]
  },
  {
   "cell_type": "code",
   "execution_count": 2,
   "metadata": {},
   "outputs": [
    {
     "data": {
      "text/plain": [
       "['Croatia',\n",
       " 'USA',\n",
       " 'Argentina',\n",
       " 'Mexico',\n",
       " 'USA',\n",
       " 'Morocco',\n",
       " 'New Mexico',\n",
       " 'Finland',\n",
       " 'Argentina',\n",
       " 'Italy',\n",
       " 'Canada',\n",
       " 'South Korea']"
      ]
     },
     "execution_count": 2,
     "metadata": {},
     "output_type": "execute_result"
    }
   ],
   "source": [
    "['Croatia', 'USA', 'Argentina', 'Mexico', 'USA', 'Morocco', 'New Mexico', 'Finland', 'Argentina', 'Italy', 'Canada', 'South Korea']"
   ]
  },
  {
   "cell_type": "markdown",
   "metadata": {},
   "source": [
    "We can, of course, declare variables and set them equal to our lists so that we can both name and later retrieve the list."
   ]
  },
  {
   "cell_type": "code",
   "execution_count": 3,
   "metadata": {},
   "outputs": [],
   "source": [
    "top_travel_cities = ['Solta', 'Greenville', 'Buenos Aires', 'Los Cabos', 'Walla Walla Valley', 'Marakesh', 'Albuquerque', 'Archipelago Sea', 'Iguazu Falls', 'Salina Island', 'Toronto', 'Pyeongchang']"
   ]
  },
  {
   "cell_type": "code",
   "execution_count": 4,
   "metadata": {},
   "outputs": [
    {
     "data": {
      "text/plain": [
       "['Solta',\n",
       " 'Greenville',\n",
       " 'Buenos Aires',\n",
       " 'Los Cabos',\n",
       " 'Walla Walla Valley',\n",
       " 'Marakesh',\n",
       " 'Albuquerque',\n",
       " 'Arc